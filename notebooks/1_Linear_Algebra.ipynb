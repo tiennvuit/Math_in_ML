{
  "nbformat": 4,
  "nbformat_minor": 0,
  "metadata": {
    "colab": {
      "name": "1. Linear Algebra.ipynb",
      "provenance": [],
      "collapsed_sections": [],
      "authorship_tag": "ABX9TyPwEQypNhAPKzzyO5CmIAPW",
      "include_colab_link": true
    },
    "kernelspec": {
      "name": "python3",
      "display_name": "Python 3"
    },
    "language_info": {
      "name": "python"
    }
  },
  "cells": [
    {
      "cell_type": "markdown",
      "metadata": {
        "id": "view-in-github",
        "colab_type": "text"
      },
      "source": [
        "<a href=\"https://colab.research.google.com/github/tiennvuit/Math_in_ML/blob/master/notebooks/1_Linear_Algebra.ipynb\" target=\"_parent\"><img src=\"https://colab.research.google.com/assets/colab-badge.svg\" alt=\"Open In Colab\"/></a>"
      ]
    },
    {
      "cell_type": "markdown",
      "metadata": {
        "id": "UEN42i-Yh3qE"
      },
      "source": [
        "<h1><center><b>Linear Algebra Revision</h1>\n",
        "<center>(18/04/2021)"
      ]
    },
    {
      "cell_type": "markdown",
      "metadata": {
        "id": "zuM2kuGli_jl"
      },
      "source": [
        "Đại số tuyến tính (Linear Algebra) là một lĩnh vực toán nghiên cứu về các đối tượng được mô hình hóa và các định nghĩa các phép biến đổi lên đối tượng đó. Trong Machine Learning, Đại số tuyến tính là cốt lõi của các thuật toán cơ bản đến nâng cao vì vậy kiến thức về lĩnh vực Đại số Tuyến tính là cần thuyết. "
      ]
    },
    {
      "cell_type": "markdown",
      "metadata": {
        "id": "gDQcMQc9ic1_"
      },
      "source": [
        "## 1. Vector"
      ]
    },
    {
      "cell_type": "markdown",
      "metadata": {
        "id": "qOBNHYmOin23"
      },
      "source": [
        "- Khái niệm vector là cốt lõi của Đại số tuyến tính vì việc nghiên cứu các phép biến đổi, các bài toán liên quan đều xoay quanh khái niệm này.\n",
        "\n",
        "- Trong không gian $R^n$, tập hợp $V$ được gọi là một nhóm (tập hợp vector) khi và chỉ khi với hai phần tử bất kì $x, y$ trong $V$ và $\\alpha$, ta định nghĩa hai phép toán $+$ và $*$ sao cho:\n",
        "    - $x + y \\in V$\n",
        "    - $\\alpha * x \\in V$ \\\\\n",
        "Khi đó, mỗi phần tử trong tập hợp V được gọi là một vector.\n",
        "\n",
        "- Về mặc hình học, vector là một đại lượng có hướng (direction) và có độ lớn (magnitude).\n",
        "\n",
        "- Một số ví dụ về vector:\n",
        "    - Vector hình học.\n",
        "\n",
        "    ![1_linear-algebra_vector.png](data:image/png;base64,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)\n",
        "\n",
        "    - Đa thức (Polynomials)\n",
        "\n",
        "    - Tính hiệu số (digital signal)\n",
        "\n",
        "    - Những phần tử thuộc không gian $\\mathbb{R}^n$ có dạng:\n",
        "$$x = \\begin{bmatrix}\n",
        "  x_1 \\\\\n",
        "  x_2 \\\\\n",
        "  \\vdots \\\\\n",
        "  x_n \\\\\n",
        "\\end{bmatrix}$$"
      ]
    },
    {
      "cell_type": "markdown",
      "metadata": {
        "id": "lKCPKClviSvd"
      },
      "source": [
        "## 2. Hệ phương trình tuyến tính"
      ]
    },
    {
      "cell_type": "markdown",
      "metadata": {
        "id": "MEQ8fJglvV15"
      },
      "source": [
        "- Hệ phương trình tuyến tính có vai trò quan trọng trong đại số tuyến tính. Nhiều bài toán có thể mô hình hóa thành hệ phương trình tuyến tính cho phép ta giải quyết bằng các kĩ thuật trong đại số tuyến tính.\n",
        "\n",
        "- Ví dụ:\n",
        "Một nhà máy sản xuất năm loại sản phẩm A, B, C, D, E. Mỗi loại phải qua năm cộng đoạn là cắt, gọt, đóng gói, trang trí và dán nhãn với thời gian cho mỗi công đoạn như sau:\n",
        "\n",
        "|           | Sản phẩm A | Sản phẩm B | Sản phẩm C | Sản phẩm D | Sản phẩm E |\n",
        "|:---------:|:----------:|:----------:|:----------:|------------|------------|\n",
        "|    Cắt    |    1 giờ   |    1 giờ   |    1 giờ   |    1 giờ   |    1 giờ   |\n",
        "|    Gọt    |    1 giờ   |    2 giờ   |    3 giờ   |    4 giờ   |    5 giờ   |\n",
        "| Đóng gói  |    1 giờ   |    3 giờ   |    6 giờ   |   10 giờ   |   15 giờ   |\n",
        "| Trang trí |    1 giờ   |    4 giờ   |   10 giờ   |   10 giờ   |   35 giờ   |\n",
        "|  Dán nhãn |    1 giờ   |    5 giờ   |   15 giờ   |   35 giờ   |   70 giờ   |\n",
        "\n",
        "Các bộ phận cắt, gọt, đóng gói, trang trì, dán nhãn có số giờ công nhiều nhất trong một tuần lần lượt là 15, 35, 70, 126, 210 giờ. Hỏi nhà máy phải sản xuất mỗi loại sản phẩm là bao nhiêu trong tuần để sử dụng hết công suất của nhà máy?"
      ]
    },
    {
      "cell_type": "code",
      "metadata": {
        "id": "h4Ln5SL1hx7E"
      },
      "source": [
        ""
      ],
      "execution_count": null,
      "outputs": []
    }
  ]
}